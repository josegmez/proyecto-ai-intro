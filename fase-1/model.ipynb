{
 "cells": [
  {
   "cell_type": "markdown",
   "metadata": {},
   "source": [
    "# 1. Descripción\n",
    "\n",
    "En este notebook se presenta un modelo de regresión lineal simple para predecir el precio de automóviles usados en función de diferentes variables que se describen más adelante.\n",
    "\n",
    "Este problema se toma de la competencia de [*Regression of Used Car Prices*](https://www.kaggle.com/competitions/playground-series-s4e9) de la plataforma de [*Kaggle*](https://www.kaggle.com/) en la que se busca predecir el precio de un automóvil usado y se evalúa el modelo con la métrica de [*Root Mean Squared Logarithmic Error (RMSLE)*](https://www.kaggle.com/competitions/playground-series-s4e9/overview/evaluation).\n",
    "\n",
    "La solución propuesta fue tomada de [*Insights_EDA_Preprocessing_CATB Modeling | S4E9*](https://www.kaggle.com/code/quantum09/insights-eda-preprocessing-catb-modeling-s4e9/notebook#8.-Modeling-&-Evaluation) propuesta por [*Eunji Goo*](https://www.kaggle.com/quantum09), en la que se realiza un análisis exploratorio de los datos, se preprocesan los datos y se entrena un modelo de [*CatBoostRegressor*](https://catboost.ai/) para predecir el precio de los automóviles usados."
   ]
  },
  {
   "cell_type": "markdown",
   "metadata": {},
   "source": [
    "Hay 11 características para predecir el precio de autos usados.\n",
    "\n",
    "***Variable objetivo:*** **price.** Es lo que se quiere predecir, que es el precio de venta del auto usado.\n",
    "\n",
    "- **brand:** El fabricante del auto. (BMW, Audi, Chevrolet, etc.)\n",
    "  \n",
    "- **model:** El nombre del modelo del auto. (BMW 328i, Chevrolet Camaro 1LT, etc.)\n",
    "  \n",
    "- **model_year:** El año en que el auto fue fabricado y salió de la fábrica. Indica el año de producción real del vehículo.\n",
    "\n",
    "- **milage:** El kilometraje del auto, que indica cuánta distancia ha recorrido el auto.\n",
    "\n",
    "- **fuel_type:** El tipo de combustible que usa el auto. Ej. Gasolina, Diésel, Eléctrico, etc.\n",
    "\n",
    "- **engine:** Las especificaciones del motor del auto. (cilindrada, número de cilindros y potencia).\n",
    "\n",
    "- **transmission:** El tipo de transmisión del auto. (Automática (A/T), Manual (M/T), etc.)\n",
    "\n",
    "- **ext_col:** El color exterior del auto.\n",
    "\n",
    "- **int_col:** El color interior del auto.\n",
    "\n",
    "- **accident:** Indica si el auto ha estado involucrado en algún accidente o ha sufrido daños.\n",
    "\n",
    "- **clean_title:** Indica el estado del título del auto. 'Sí' / 'No' significa que el auto tiene / no tiene un título limpio."
   ]
  },
  {
   "cell_type": "markdown",
   "metadata": {},
   "source": [
    "## 2. Instalar e importar librerias"
   ]
  },
  {
   "cell_type": "code",
   "execution_count": 1,
   "metadata": {},
   "outputs": [
    {
     "name": "stdout",
     "output_type": "stream",
     "text": [
      "Requirement already satisfied: catboost in c:\\users\\jose-\\appdata\\local\\programs\\python\\python311\\lib\\site-packages (1.2.6)Note: you may need to restart the kernel to use updated packages.\n",
      "\n",
      "Requirement already satisfied: graphviz in c:\\users\\jose-\\appdata\\local\\programs\\python\\python311\\lib\\site-packages (from catboost) (0.20.3)\n",
      "Requirement already satisfied: matplotlib in c:\\users\\jose-\\appdata\\local\\programs\\python\\python311\\lib\\site-packages (from catboost) (3.9.2)\n",
      "Requirement already satisfied: numpy<2.0,>=1.16.0 in c:\\users\\jose-\\appdata\\local\\programs\\python\\python311\\lib\\site-packages (from catboost) (1.26.4)\n",
      "Requirement already satisfied: pandas>=0.24 in c:\\users\\jose-\\appdata\\local\\programs\\python\\python311\\lib\\site-packages (from catboost) (2.2.2)\n",
      "Requirement already satisfied: scipy in c:\\users\\jose-\\appdata\\local\\programs\\python\\python311\\lib\\site-packages (from catboost) (1.14.1)\n",
      "Requirement already satisfied: plotly in c:\\users\\jose-\\appdata\\local\\programs\\python\\python311\\lib\\site-packages (from catboost) (5.24.0)\n",
      "Requirement already satisfied: six in c:\\users\\jose-\\appdata\\local\\programs\\python\\python311\\lib\\site-packages (from catboost) (1.16.0)\n",
      "Requirement already satisfied: python-dateutil>=2.8.2 in c:\\users\\jose-\\appdata\\local\\programs\\python\\python311\\lib\\site-packages (from pandas>=0.24->catboost) (2.9.0.post0)\n",
      "Requirement already satisfied: pytz>=2020.1 in c:\\users\\jose-\\appdata\\local\\programs\\python\\python311\\lib\\site-packages (from pandas>=0.24->catboost) (2024.1)\n",
      "Requirement already satisfied: tzdata>=2022.7 in c:\\users\\jose-\\appdata\\local\\programs\\python\\python311\\lib\\site-packages (from pandas>=0.24->catboost) (2024.1)\n",
      "Requirement already satisfied: contourpy>=1.0.1 in c:\\users\\jose-\\appdata\\local\\programs\\python\\python311\\lib\\site-packages (from matplotlib->catboost) (1.3.0)\n",
      "Requirement already satisfied: cycler>=0.10 in c:\\users\\jose-\\appdata\\local\\programs\\python\\python311\\lib\\site-packages (from matplotlib->catboost) (0.12.1)\n",
      "Requirement already satisfied: fonttools>=4.22.0 in c:\\users\\jose-\\appdata\\local\\programs\\python\\python311\\lib\\site-packages (from matplotlib->catboost) (4.53.1)\n",
      "Requirement already satisfied: kiwisolver>=1.3.1 in c:\\users\\jose-\\appdata\\local\\programs\\python\\python311\\lib\\site-packages (from matplotlib->catboost) (1.4.7)\n",
      "Requirement already satisfied: packaging>=20.0 in c:\\users\\jose-\\appdata\\local\\programs\\python\\python311\\lib\\site-packages (from matplotlib->catboost) (24.0)\n",
      "Requirement already satisfied: pillow>=8 in c:\\users\\jose-\\appdata\\local\\programs\\python\\python311\\lib\\site-packages (from matplotlib->catboost) (10.4.0)\n",
      "Requirement already satisfied: pyparsing>=2.3.1 in c:\\users\\jose-\\appdata\\local\\programs\\python\\python311\\lib\\site-packages (from matplotlib->catboost) (3.1.2)\n",
      "Requirement already satisfied: tenacity>=6.2.0 in c:\\users\\jose-\\appdata\\local\\programs\\python\\python311\\lib\\site-packages (from plotly->catboost) (9.0.0)\n"
     ]
    },
    {
     "name": "stderr",
     "output_type": "stream",
     "text": [
      "WARNING: Ignoring invalid distribution ~2o (c:\\Users\\jose-\\AppData\\Local\\Programs\\Python\\Python311\\Lib\\site-packages)\n",
      "WARNING: Ignoring invalid distribution ~2o (c:\\Users\\jose-\\AppData\\Local\\Programs\\Python\\Python311\\Lib\\site-packages)\n",
      "WARNING: There was an error checking the latest version of pip.\n"
     ]
    },
    {
     "name": "stdout",
     "output_type": "stream",
     "text": [
      "Requirement already satisfied: lightgbm in c:\\users\\jose-\\appdata\\local\\programs\\python\\python311\\lib\\site-packages (4.5.0)\n",
      "Requirement already satisfied: numpy>=1.17.0 in c:\\users\\jose-\\appdata\\local\\programs\\python\\python311\\lib\\site-packages (from lightgbm) (1.26.4)\n",
      "Requirement already satisfied: scipy in c:\\users\\jose-\\appdata\\local\\programs\\python\\python311\\lib\\site-packages (from lightgbm) (1.14.1)\n",
      "Note: you may need to restart the kernel to use updated packages.\n"
     ]
    },
    {
     "name": "stderr",
     "output_type": "stream",
     "text": [
      "WARNING: Ignoring invalid distribution ~2o (c:\\Users\\jose-\\AppData\\Local\\Programs\\Python\\Python311\\Lib\\site-packages)\n",
      "WARNING: Ignoring invalid distribution ~2o (c:\\Users\\jose-\\AppData\\Local\\Programs\\Python\\Python311\\Lib\\site-packages)\n",
      "WARNING: There was an error checking the latest version of pip.\n"
     ]
    },
    {
     "name": "stdout",
     "output_type": "stream",
     "text": [
      "Requirement already satisfied: xgboost in c:\\users\\jose-\\appdata\\local\\programs\\python\\python311\\lib\\site-packages (2.1.1)\n",
      "Requirement already satisfied: numpy in c:\\users\\jose-\\appdata\\local\\programs\\python\\python311\\lib\\site-packages (from xgboost) (1.26.4)\n",
      "Requirement already satisfied: scipy in c:\\users\\jose-\\appdata\\local\\programs\\python\\python311\\lib\\site-packages (from xgboost) (1.14.1)\n",
      "Note: you may need to restart the kernel to use updated packages.\n"
     ]
    },
    {
     "name": "stderr",
     "output_type": "stream",
     "text": [
      "WARNING: Ignoring invalid distribution ~2o (c:\\Users\\jose-\\AppData\\Local\\Programs\\Python\\Python311\\Lib\\site-packages)\n",
      "WARNING: Ignoring invalid distribution ~2o (c:\\Users\\jose-\\AppData\\Local\\Programs\\Python\\Python311\\Lib\\site-packages)\n",
      "WARNING: There was an error checking the latest version of pip.\n"
     ]
    },
    {
     "name": "stdout",
     "output_type": "stream",
     "text": [
      "Requirement already satisfied: scikit-learn in c:\\users\\jose-\\appdata\\local\\programs\\python\\python311\\lib\\site-packages (1.5.1)\n",
      "Requirement already satisfied: numpy>=1.19.5 in c:\\users\\jose-\\appdata\\local\\programs\\python\\python311\\lib\\site-packages (from scikit-learn) (1.26.4)\n",
      "Requirement already satisfied: scipy>=1.6.0 in c:\\users\\jose-\\appdata\\local\\programs\\python\\python311\\lib\\site-packages (from scikit-learn) (1.14.1)\n",
      "Requirement already satisfied: joblib>=1.2.0 in c:\\users\\jose-\\appdata\\local\\programs\\python\\python311\\lib\\site-packages (from scikit-learn) (1.4.2)\n",
      "Requirement already satisfied: threadpoolctl>=3.1.0 in c:\\users\\jose-\\appdata\\local\\programs\\python\\python311\\lib\\site-packages (from scikit-learn) (3.5.0)\n",
      "Note: you may need to restart the kernel to use updated packages.\n"
     ]
    },
    {
     "name": "stderr",
     "output_type": "stream",
     "text": [
      "WARNING: Ignoring invalid distribution ~2o (c:\\Users\\jose-\\AppData\\Local\\Programs\\Python\\Python311\\Lib\\site-packages)\n",
      "WARNING: Ignoring invalid distribution ~2o (c:\\Users\\jose-\\AppData\\Local\\Programs\\Python\\Python311\\Lib\\site-packages)\n",
      "WARNING: There was an error checking the latest version of pip.\n"
     ]
    },
    {
     "name": "stdout",
     "output_type": "stream",
     "text": [
      "Requirement already satisfied: seaborn in c:\\users\\jose-\\appdata\\local\\programs\\python\\python311\\lib\\site-packages (0.13.2)\n",
      "Requirement already satisfied: numpy!=1.24.0,>=1.20 in c:\\users\\jose-\\appdata\\local\\programs\\python\\python311\\lib\\site-packages (from seaborn) (1.26.4)\n",
      "Requirement already satisfied: pandas>=1.2 in c:\\users\\jose-\\appdata\\local\\programs\\python\\python311\\lib\\site-packages (from seaborn) (2.2.2)\n",
      "Requirement already satisfied: matplotlib!=3.6.1,>=3.4 in c:\\users\\jose-\\appdata\\local\\programs\\python\\python311\\lib\\site-packages (from seaborn) (3.9.2)\n",
      "Requirement already satisfied: contourpy>=1.0.1 in c:\\users\\jose-\\appdata\\local\\programs\\python\\python311\\lib\\site-packages (from matplotlib!=3.6.1,>=3.4->seaborn) (1.3.0)\n",
      "Requirement already satisfied: cycler>=0.10 in c:\\users\\jose-\\appdata\\local\\programs\\python\\python311\\lib\\site-packages (from matplotlib!=3.6.1,>=3.4->seaborn) (0.12.1)\n",
      "Requirement already satisfied: fonttools>=4.22.0 in c:\\users\\jose-\\appdata\\local\\programs\\python\\python311\\lib\\site-packages (from matplotlib!=3.6.1,>=3.4->seaborn) (4.53.1)\n",
      "Requirement already satisfied: kiwisolver>=1.3.1 in c:\\users\\jose-\\appdata\\local\\programs\\python\\python311\\lib\\site-packages (from matplotlib!=3.6.1,>=3.4->seaborn) (1.4.7)\n",
      "Requirement already satisfied: packaging>=20.0 in c:\\users\\jose-\\appdata\\local\\programs\\python\\python311\\lib\\site-packages (from matplotlib!=3.6.1,>=3.4->seaborn) (24.0)\n",
      "Requirement already satisfied: pillow>=8 in c:\\users\\jose-\\appdata\\local\\programs\\python\\python311\\lib\\site-packages (from matplotlib!=3.6.1,>=3.4->seaborn) (10.4.0)\n",
      "Requirement already satisfied: pyparsing>=2.3.1 in c:\\users\\jose-\\appdata\\local\\programs\\python\\python311\\lib\\site-packages (from matplotlib!=3.6.1,>=3.4->seaborn) (3.1.2)\n",
      "Requirement already satisfied: python-dateutil>=2.7 in c:\\users\\jose-\\appdata\\local\\programs\\python\\python311\\lib\\site-packages (from matplotlib!=3.6.1,>=3.4->seaborn) (2.9.0.post0)\n",
      "Requirement already satisfied: pytz>=2020.1 in c:\\users\\jose-\\appdata\\local\\programs\\python\\python311\\lib\\site-packages (from pandas>=1.2->seaborn) (2024.1)\n",
      "Requirement already satisfied: tzdata>=2022.7 in c:\\users\\jose-\\appdata\\local\\programs\\python\\python311\\lib\\site-packages (from pandas>=1.2->seaborn) (2024.1)\n",
      "Requirement already satisfied: six>=1.5 in c:\\users\\jose-\\appdata\\local\\programs\\python\\python311\\lib\\site-packages (from python-dateutil>=2.7->matplotlib!=3.6.1,>=3.4->seaborn) (1.16.0)\n",
      "Note: you may need to restart the kernel to use updated packages.\n"
     ]
    },
    {
     "name": "stderr",
     "output_type": "stream",
     "text": [
      "WARNING: Ignoring invalid distribution ~2o (c:\\Users\\jose-\\AppData\\Local\\Programs\\Python\\Python311\\Lib\\site-packages)\n",
      "WARNING: Ignoring invalid distribution ~2o (c:\\Users\\jose-\\AppData\\Local\\Programs\\Python\\Python311\\Lib\\site-packages)\n",
      "WARNING: There was an error checking the latest version of pip.\n"
     ]
    },
    {
     "name": "stdout",
     "output_type": "stream",
     "text": [
      "Requirement already satisfied: numpy in c:\\users\\jose-\\appdata\\local\\programs\\python\\python311\\lib\\site-packages (1.26.4)\n",
      "Note: you may need to restart the kernel to use updated packages.\n"
     ]
    },
    {
     "name": "stderr",
     "output_type": "stream",
     "text": [
      "WARNING: Ignoring invalid distribution ~2o (c:\\Users\\jose-\\AppData\\Local\\Programs\\Python\\Python311\\Lib\\site-packages)\n",
      "WARNING: Ignoring invalid distribution ~2o (c:\\Users\\jose-\\AppData\\Local\\Programs\\Python\\Python311\\Lib\\site-packages)\n",
      "WARNING: There was an error checking the latest version of pip.\n"
     ]
    },
    {
     "name": "stdout",
     "output_type": "stream",
     "text": [
      "Requirement already satisfied: pandas in c:\\users\\jose-\\appdata\\local\\programs\\python\\python311\\lib\\site-packages (2.2.2)\n",
      "Requirement already satisfied: numpy>=1.23.2 in c:\\users\\jose-\\appdata\\local\\programs\\python\\python311\\lib\\site-packages (from pandas) (1.26.4)\n",
      "Requirement already satisfied: python-dateutil>=2.8.2 in c:\\users\\jose-\\appdata\\local\\programs\\python\\python311\\lib\\site-packages (from pandas) (2.9.0.post0)\n",
      "Requirement already satisfied: pytz>=2020.1 in c:\\users\\jose-\\appdata\\local\\programs\\python\\python311\\lib\\site-packages (from pandas) (2024.1)\n",
      "Requirement already satisfied: tzdata>=2022.7 in c:\\users\\jose-\\appdata\\local\\programs\\python\\python311\\lib\\site-packages (from pandas) (2024.1)\n",
      "Requirement already satisfied: six>=1.5 in c:\\users\\jose-\\appdata\\local\\programs\\python\\python311\\lib\\site-packages (from python-dateutil>=2.8.2->pandas) (1.16.0)\n",
      "Note: you may need to restart the kernel to use updated packages.\n"
     ]
    },
    {
     "name": "stderr",
     "output_type": "stream",
     "text": [
      "WARNING: Ignoring invalid distribution ~2o (c:\\Users\\jose-\\AppData\\Local\\Programs\\Python\\Python311\\Lib\\site-packages)\n",
      "WARNING: Ignoring invalid distribution ~2o (c:\\Users\\jose-\\AppData\\Local\\Programs\\Python\\Python311\\Lib\\site-packages)\n",
      "WARNING: There was an error checking the latest version of pip.\n"
     ]
    },
    {
     "name": "stdout",
     "output_type": "stream",
     "text": [
      "Requirement already satisfied: matplotlib in c:\\users\\jose-\\appdata\\local\\programs\\python\\python311\\lib\\site-packages (3.9.2)\n",
      "Requirement already satisfied: contourpy>=1.0.1 in c:\\users\\jose-\\appdata\\local\\programs\\python\\python311\\lib\\site-packages (from matplotlib) (1.3.0)\n",
      "Requirement already satisfied: cycler>=0.10 in c:\\users\\jose-\\appdata\\local\\programs\\python\\python311\\lib\\site-packages (from matplotlib) (0.12.1)\n",
      "Requirement already satisfied: fonttools>=4.22.0 in c:\\users\\jose-\\appdata\\local\\programs\\python\\python311\\lib\\site-packages (from matplotlib) (4.53.1)\n",
      "Requirement already satisfied: kiwisolver>=1.3.1 in c:\\users\\jose-\\appdata\\local\\programs\\python\\python311\\lib\\site-packages (from matplotlib) (1.4.7)\n",
      "Requirement already satisfied: numpy>=1.23 in c:\\users\\jose-\\appdata\\local\\programs\\python\\python311\\lib\\site-packages (from matplotlib) (1.26.4)\n",
      "Requirement already satisfied: packaging>=20.0 in c:\\users\\jose-\\appdata\\local\\programs\\python\\python311\\lib\\site-packages (from matplotlib) (24.0)\n",
      "Requirement already satisfied: pillow>=8 in c:\\users\\jose-\\appdata\\local\\programs\\python\\python311\\lib\\site-packages (from matplotlib) (10.4.0)\n",
      "Requirement already satisfied: pyparsing>=2.3.1 in c:\\users\\jose-\\appdata\\local\\programs\\python\\python311\\lib\\site-packages (from matplotlib) (3.1.2)\n",
      "Requirement already satisfied: python-dateutil>=2.7 in c:\\users\\jose-\\appdata\\local\\programs\\python\\python311\\lib\\site-packages (from matplotlib) (2.9.0.post0)\n",
      "Requirement already satisfied: six>=1.5 in c:\\users\\jose-\\appdata\\local\\programs\\python\\python311\\lib\\site-packages (from python-dateutil>=2.7->matplotlib) (1.16.0)\n",
      "Note: you may need to restart the kernel to use updated packages.\n"
     ]
    },
    {
     "name": "stderr",
     "output_type": "stream",
     "text": [
      "WARNING: Ignoring invalid distribution ~2o (c:\\Users\\jose-\\AppData\\Local\\Programs\\Python\\Python311\\Lib\\site-packages)\n",
      "WARNING: Ignoring invalid distribution ~2o (c:\\Users\\jose-\\AppData\\Local\\Programs\\Python\\Python311\\Lib\\site-packages)\n",
      "WARNING: There was an error checking the latest version of pip.\n"
     ]
    }
   ],
   "source": [
    "%pip install catboost\n",
    "%pip install lightgbm\n",
    "%pip install xgboost\n",
    "%pip install scikit-learn\n",
    "%pip install seaborn\n",
    "%pip install numpy\n",
    "%pip install pandas\n",
    "%pip install matplotlib"
   ]
  },
  {
   "cell_type": "code",
   "execution_count": 2,
   "metadata": {},
   "outputs": [],
   "source": [
    "# Basic & EDA\n",
    "import numpy as np\n",
    "import pandas as pd \n",
    "import seaborn as sns\n",
    "import matplotlib.pyplot as plt\n",
    "import warnings\n",
    "warnings.filterwarnings('ignore')\n",
    "\n",
    "# Modeling\n",
    "from sklearn.model_selection import train_test_split\n",
    "from sklearn.preprocessing import StandardScaler, LabelEncoder, OneHotEncoder, OrdinalEncoder, FunctionTransformer\n",
    "from sklearn.metrics import matthews_corrcoef\n",
    "from sklearn.model_selection import RandomizedSearchCV\n",
    "from sklearn.metrics import classification_report\n",
    "from sklearn.compose import ColumnTransformer\n",
    "from sklearn.impute import SimpleImputer\n",
    "from sklearn.pipeline import Pipeline, make_pipeline\n",
    "from sklearn.compose import ColumnTransformer\n",
    "from sklearn.impute import KNNImputer\n",
    "from sklearn.model_selection import StratifiedKFold\n",
    "\n",
    "# Model library\n",
    "from xgboost import XGBClassifier\n",
    "from lightgbm import LGBMClassifier\n",
    "from catboost import CatBoostClassifier\n",
    "from catboost import CatBoostRegressor, Pool\n",
    "from sklearn.ensemble import RandomForestClassifier\n",
    "from sklearn.ensemble import VotingClassifier\n",
    "from sklearn.linear_model import LinearRegression\n",
    "\n",
    "\n",
    "# Model Evaluating\n",
    "from sklearn.metrics import mean_squared_error"
   ]
  },
  {
   "cell_type": "code",
   "execution_count": 3,
   "metadata": {},
   "outputs": [],
   "source": [
    "rs = 42\n",
    "task_type = 'CPU'"
   ]
  },
  {
   "cell_type": "markdown",
   "metadata": {},
   "source": [
    "## 3. Importar Datasets\n",
    "\n",
    "Los datos de entrenamiento y prueba se cargan de la carpeta `data` que se encuentra en el directorio raíz del proyecto y que se desacargaron de la competencia de [*Regression of Used Car Prices*](https://www.kaggle.com/competitions/playground-series-s4e9) de la plataforma de [*Kaggle*](https://www.kaggle.com/). "
   ]
  },
  {
   "cell_type": "code",
   "execution_count": 4,
   "metadata": {},
   "outputs": [],
   "source": [
    "df_train = pd.read_csv('../data/train.csv', index_col='id')\n",
    "df_test = pd.read_csv('../data/test.csv', index_col='id')"
   ]
  },
  {
   "cell_type": "markdown",
   "metadata": {},
   "source": [
    "## 4. EDA (Análisis Exploratorio de Datos)\n",
    "\n",
    "### 4.1. Encabezado, Cola, Forma, Valores Faltantes, Duplicados, Estadísticas Descriptivas, etc."
   ]
  },
  {
   "cell_type": "code",
   "execution_count": 5,
   "metadata": {},
   "outputs": [
    {
     "name": "stdout",
     "output_type": "stream",
     "text": [
      "Tail 10 Examples of Train Dataset : \n"
     ]
    },
    {
     "data": {
      "text/html": [
       "<div>\n",
       "<style scoped>\n",
       "    .dataframe tbody tr th:only-of-type {\n",
       "        vertical-align: middle;\n",
       "    }\n",
       "\n",
       "    .dataframe tbody tr th {\n",
       "        vertical-align: top;\n",
       "    }\n",
       "\n",
       "    .dataframe thead th {\n",
       "        text-align: right;\n",
       "    }\n",
       "</style>\n",
       "<table border=\"1\" class=\"dataframe\">\n",
       "  <thead>\n",
       "    <tr style=\"text-align: right;\">\n",
       "      <th></th>\n",
       "      <th>brand</th>\n",
       "      <th>model</th>\n",
       "      <th>model_year</th>\n",
       "      <th>milage</th>\n",
       "      <th>fuel_type</th>\n",
       "      <th>engine</th>\n",
       "      <th>transmission</th>\n",
       "      <th>ext_col</th>\n",
       "      <th>int_col</th>\n",
       "      <th>accident</th>\n",
       "      <th>clean_title</th>\n",
       "      <th>price</th>\n",
       "    </tr>\n",
       "    <tr>\n",
       "      <th>id</th>\n",
       "      <th></th>\n",
       "      <th></th>\n",
       "      <th></th>\n",
       "      <th></th>\n",
       "      <th></th>\n",
       "      <th></th>\n",
       "      <th></th>\n",
       "      <th></th>\n",
       "      <th></th>\n",
       "      <th></th>\n",
       "      <th></th>\n",
       "      <th></th>\n",
       "    </tr>\n",
       "  </thead>\n",
       "  <tbody>\n",
       "    <tr>\n",
       "      <th>188523</th>\n",
       "      <td>BMW</td>\n",
       "      <td>328 i</td>\n",
       "      <td>2011</td>\n",
       "      <td>239000</td>\n",
       "      <td>Gasoline</td>\n",
       "      <td>230.0HP 3.0L Straight 6 Cylinder Engine Gasoli...</td>\n",
       "      <td>6-Speed A/T</td>\n",
       "      <td>Black</td>\n",
       "      <td>Black</td>\n",
       "      <td>None reported</td>\n",
       "      <td>Yes</td>\n",
       "      <td>8000</td>\n",
       "    </tr>\n",
       "    <tr>\n",
       "      <th>188524</th>\n",
       "      <td>Chevrolet</td>\n",
       "      <td>Camaro 1LT</td>\n",
       "      <td>2019</td>\n",
       "      <td>59692</td>\n",
       "      <td>Gasoline</td>\n",
       "      <td>335.0HP 3.6L V6 Cylinder Engine Gasoline Fuel</td>\n",
       "      <td>10-Speed A/T</td>\n",
       "      <td>Red</td>\n",
       "      <td>Black</td>\n",
       "      <td>At least 1 accident or damage reported</td>\n",
       "      <td>Yes</td>\n",
       "      <td>33600</td>\n",
       "    </tr>\n",
       "    <tr>\n",
       "      <th>188525</th>\n",
       "      <td>Audi</td>\n",
       "      <td>A4 2.0T Premium quattro</td>\n",
       "      <td>2011</td>\n",
       "      <td>121886</td>\n",
       "      <td>Gasoline</td>\n",
       "      <td>211.0HP 2.0L 4 Cylinder Engine Gasoline Fuel</td>\n",
       "      <td>8-Speed A/T</td>\n",
       "      <td>Gray</td>\n",
       "      <td>Black</td>\n",
       "      <td>None reported</td>\n",
       "      <td>Yes</td>\n",
       "      <td>6000</td>\n",
       "    </tr>\n",
       "    <tr>\n",
       "      <th>188526</th>\n",
       "      <td>GMC</td>\n",
       "      <td>Yukon XL Denali</td>\n",
       "      <td>2016</td>\n",
       "      <td>89291</td>\n",
       "      <td>Gasoline</td>\n",
       "      <td>420.0HP 6.2L 8 Cylinder Engine Gasoline Fuel</td>\n",
       "      <td>8-Speed A/T</td>\n",
       "      <td>Red</td>\n",
       "      <td>Black</td>\n",
       "      <td>At least 1 accident or damage reported</td>\n",
       "      <td>Yes</td>\n",
       "      <td>24700</td>\n",
       "    </tr>\n",
       "    <tr>\n",
       "      <th>188527</th>\n",
       "      <td>Chevrolet</td>\n",
       "      <td>Camaro Z28</td>\n",
       "      <td>1999</td>\n",
       "      <td>110000</td>\n",
       "      <td>Gasoline</td>\n",
       "      <td>310.0HP 5.7L 8 Cylinder Engine Gasoline Fuel</td>\n",
       "      <td>A/T</td>\n",
       "      <td>White</td>\n",
       "      <td>Gray</td>\n",
       "      <td>None reported</td>\n",
       "      <td>Yes</td>\n",
       "      <td>14500</td>\n",
       "    </tr>\n",
       "    <tr>\n",
       "      <th>188528</th>\n",
       "      <td>Cadillac</td>\n",
       "      <td>Escalade ESV Platinum</td>\n",
       "      <td>2017</td>\n",
       "      <td>49000</td>\n",
       "      <td>Gasoline</td>\n",
       "      <td>420.0HP 6.2L 8 Cylinder Engine Gasoline Fuel</td>\n",
       "      <td>Transmission w/Dual Shift Mode</td>\n",
       "      <td>White</td>\n",
       "      <td>Beige</td>\n",
       "      <td>None reported</td>\n",
       "      <td>Yes</td>\n",
       "      <td>27500</td>\n",
       "    </tr>\n",
       "    <tr>\n",
       "      <th>188529</th>\n",
       "      <td>Mercedes-Benz</td>\n",
       "      <td>AMG C 43 AMG C 43 4MATIC</td>\n",
       "      <td>2018</td>\n",
       "      <td>28600</td>\n",
       "      <td>Gasoline</td>\n",
       "      <td>385.0HP 3.0L V6 Cylinder Engine Gasoline Fuel</td>\n",
       "      <td>8-Speed A/T</td>\n",
       "      <td>White</td>\n",
       "      <td>Black</td>\n",
       "      <td>At least 1 accident or damage reported</td>\n",
       "      <td>Yes</td>\n",
       "      <td>30000</td>\n",
       "    </tr>\n",
       "    <tr>\n",
       "      <th>188530</th>\n",
       "      <td>Mercedes-Benz</td>\n",
       "      <td>AMG GLC 63 Base 4MATIC</td>\n",
       "      <td>2021</td>\n",
       "      <td>13650</td>\n",
       "      <td>Gasoline</td>\n",
       "      <td>469.0HP 4.0L 8 Cylinder Engine Gasoline Fuel</td>\n",
       "      <td>7-Speed A/T</td>\n",
       "      <td>White</td>\n",
       "      <td>Black</td>\n",
       "      <td>None reported</td>\n",
       "      <td>Yes</td>\n",
       "      <td>86900</td>\n",
       "    </tr>\n",
       "    <tr>\n",
       "      <th>188531</th>\n",
       "      <td>Audi</td>\n",
       "      <td>S5 3.0T Prestige</td>\n",
       "      <td>2022</td>\n",
       "      <td>13895</td>\n",
       "      <td>Gasoline</td>\n",
       "      <td>3.0L</td>\n",
       "      <td>1-Speed Automatic</td>\n",
       "      <td>Daytona Gray Pearl Effect</td>\n",
       "      <td>Black</td>\n",
       "      <td>None reported</td>\n",
       "      <td>NaN</td>\n",
       "      <td>84900</td>\n",
       "    </tr>\n",
       "    <tr>\n",
       "      <th>188532</th>\n",
       "      <td>Porsche</td>\n",
       "      <td>Macan Base</td>\n",
       "      <td>2016</td>\n",
       "      <td>59500</td>\n",
       "      <td>Gasoline</td>\n",
       "      <td>252.0HP 2.0L 4 Cylinder Engine Gasoline Fuel</td>\n",
       "      <td>Transmission w/Dual Shift Mode</td>\n",
       "      <td>White</td>\n",
       "      <td>Black</td>\n",
       "      <td>None reported</td>\n",
       "      <td>Yes</td>\n",
       "      <td>28995</td>\n",
       "    </tr>\n",
       "  </tbody>\n",
       "</table>\n",
       "</div>"
      ],
      "text/plain": [
       "                brand                     model  model_year  milage fuel_type  \\\n",
       "id                                                                              \n",
       "188523            BMW                     328 i        2011  239000  Gasoline   \n",
       "188524      Chevrolet                Camaro 1LT        2019   59692  Gasoline   \n",
       "188525           Audi   A4 2.0T Premium quattro        2011  121886  Gasoline   \n",
       "188526            GMC           Yukon XL Denali        2016   89291  Gasoline   \n",
       "188527      Chevrolet                Camaro Z28        1999  110000  Gasoline   \n",
       "188528       Cadillac     Escalade ESV Platinum        2017   49000  Gasoline   \n",
       "188529  Mercedes-Benz  AMG C 43 AMG C 43 4MATIC        2018   28600  Gasoline   \n",
       "188530  Mercedes-Benz    AMG GLC 63 Base 4MATIC        2021   13650  Gasoline   \n",
       "188531           Audi          S5 3.0T Prestige        2022   13895  Gasoline   \n",
       "188532        Porsche                Macan Base        2016   59500  Gasoline   \n",
       "\n",
       "                                                   engine  \\\n",
       "id                                                          \n",
       "188523  230.0HP 3.0L Straight 6 Cylinder Engine Gasoli...   \n",
       "188524      335.0HP 3.6L V6 Cylinder Engine Gasoline Fuel   \n",
       "188525       211.0HP 2.0L 4 Cylinder Engine Gasoline Fuel   \n",
       "188526       420.0HP 6.2L 8 Cylinder Engine Gasoline Fuel   \n",
       "188527       310.0HP 5.7L 8 Cylinder Engine Gasoline Fuel   \n",
       "188528       420.0HP 6.2L 8 Cylinder Engine Gasoline Fuel   \n",
       "188529      385.0HP 3.0L V6 Cylinder Engine Gasoline Fuel   \n",
       "188530       469.0HP 4.0L 8 Cylinder Engine Gasoline Fuel   \n",
       "188531                                               3.0L   \n",
       "188532       252.0HP 2.0L 4 Cylinder Engine Gasoline Fuel   \n",
       "\n",
       "                          transmission                    ext_col int_col  \\\n",
       "id                                                                          \n",
       "188523                     6-Speed A/T                      Black   Black   \n",
       "188524                    10-Speed A/T                        Red   Black   \n",
       "188525                     8-Speed A/T                       Gray   Black   \n",
       "188526                     8-Speed A/T                        Red   Black   \n",
       "188527                             A/T                      White    Gray   \n",
       "188528  Transmission w/Dual Shift Mode                      White   Beige   \n",
       "188529                     8-Speed A/T                      White   Black   \n",
       "188530                     7-Speed A/T                      White   Black   \n",
       "188531               1-Speed Automatic  Daytona Gray Pearl Effect   Black   \n",
       "188532  Transmission w/Dual Shift Mode                      White   Black   \n",
       "\n",
       "                                      accident clean_title  price  \n",
       "id                                                                 \n",
       "188523                           None reported         Yes   8000  \n",
       "188524  At least 1 accident or damage reported         Yes  33600  \n",
       "188525                           None reported         Yes   6000  \n",
       "188526  At least 1 accident or damage reported         Yes  24700  \n",
       "188527                           None reported         Yes  14500  \n",
       "188528                           None reported         Yes  27500  \n",
       "188529  At least 1 accident or damage reported         Yes  30000  \n",
       "188530                           None reported         Yes  86900  \n",
       "188531                           None reported         NaN  84900  \n",
       "188532                           None reported         Yes  28995  "
      ]
     },
     "execution_count": 5,
     "metadata": {},
     "output_type": "execute_result"
    }
   ],
   "source": [
    "pd.options.display.max_columns = None\n",
    "print('Tail 10 Examples of Train Dataset : ')\n",
    "df_train.tail(10)"
   ]
  },
  {
   "cell_type": "code",
   "execution_count": 6,
   "metadata": {},
   "outputs": [
    {
     "name": "stdout",
     "output_type": "stream",
     "text": [
      "The shape of train dataset is (188533, 12)\n",
      "The shape of test dataset is (125690, 11)\n"
     ]
    }
   ],
   "source": [
    "print('The shape of train dataset is', df_train.shape)\n",
    "print('The shape of test dataset is', df_test.shape)"
   ]
  },
  {
   "cell_type": "code",
   "execution_count": 7,
   "metadata": {},
   "outputs": [
    {
     "name": "stdout",
     "output_type": "stream",
     "text": [
      "The duplicate rows in the train dataset : 0\n",
      "The duplicate rows in the test dataset : 0\n"
     ]
    }
   ],
   "source": [
    "print('The duplicate rows in the train dataset :', df_train.duplicated().sum() )\n",
    "print('The duplicate rows in the test dataset :', df_test.duplicated().sum() )"
   ]
  },
  {
   "cell_type": "code",
   "execution_count": 8,
   "metadata": {},
   "outputs": [
    {
     "name": "stdout",
     "output_type": "stream",
     "text": [
      "The Descriptive Statistics of Train Data : \n",
      "\n"
     ]
    },
    {
     "data": {
      "text/html": [
       "<div>\n",
       "<style scoped>\n",
       "    .dataframe tbody tr th:only-of-type {\n",
       "        vertical-align: middle;\n",
       "    }\n",
       "\n",
       "    .dataframe tbody tr th {\n",
       "        vertical-align: top;\n",
       "    }\n",
       "\n",
       "    .dataframe thead th {\n",
       "        text-align: right;\n",
       "    }\n",
       "</style>\n",
       "<table border=\"1\" class=\"dataframe\">\n",
       "  <thead>\n",
       "    <tr style=\"text-align: right;\">\n",
       "      <th></th>\n",
       "      <th>count</th>\n",
       "      <th>mean</th>\n",
       "      <th>std</th>\n",
       "      <th>min</th>\n",
       "      <th>25%</th>\n",
       "      <th>50%</th>\n",
       "      <th>75%</th>\n",
       "      <th>max</th>\n",
       "    </tr>\n",
       "  </thead>\n",
       "  <tbody>\n",
       "    <tr>\n",
       "      <th>model_year</th>\n",
       "      <td>188533.0</td>\n",
       "      <td>2015.829998</td>\n",
       "      <td>5.660967</td>\n",
       "      <td>1974.0</td>\n",
       "      <td>2013.0</td>\n",
       "      <td>2017.0</td>\n",
       "      <td>2020.0</td>\n",
       "      <td>2024.0</td>\n",
       "    </tr>\n",
       "    <tr>\n",
       "      <th>milage</th>\n",
       "      <td>188533.0</td>\n",
       "      <td>65705.295174</td>\n",
       "      <td>49798.158076</td>\n",
       "      <td>100.0</td>\n",
       "      <td>24115.0</td>\n",
       "      <td>57785.0</td>\n",
       "      <td>95400.0</td>\n",
       "      <td>405000.0</td>\n",
       "    </tr>\n",
       "    <tr>\n",
       "      <th>price</th>\n",
       "      <td>188533.0</td>\n",
       "      <td>43878.016178</td>\n",
       "      <td>78819.522254</td>\n",
       "      <td>2000.0</td>\n",
       "      <td>17000.0</td>\n",
       "      <td>30825.0</td>\n",
       "      <td>49900.0</td>\n",
       "      <td>2954083.0</td>\n",
       "    </tr>\n",
       "  </tbody>\n",
       "</table>\n",
       "</div>"
      ],
      "text/plain": [
       "               count          mean           std     min      25%      50%  \\\n",
       "model_year  188533.0   2015.829998      5.660967  1974.0   2013.0   2017.0   \n",
       "milage      188533.0  65705.295174  49798.158076   100.0  24115.0  57785.0   \n",
       "price       188533.0  43878.016178  78819.522254  2000.0  17000.0  30825.0   \n",
       "\n",
       "                75%        max  \n",
       "model_year   2020.0     2024.0  \n",
       "milage      95400.0   405000.0  \n",
       "price       49900.0  2954083.0  "
      ]
     },
     "execution_count": 8,
     "metadata": {},
     "output_type": "execute_result"
    }
   ],
   "source": [
    "print('The Descriptive Statistics of Train Data : \\n')\n",
    "df_train.describe().T"
   ]
  },
  {
   "cell_type": "code",
   "execution_count": 9,
   "metadata": {},
   "outputs": [
    {
     "name": "stdout",
     "output_type": "stream",
     "text": [
      "The Descriptive Statistics of Test Data : \n",
      "\n"
     ]
    },
    {
     "data": {
      "text/html": [
       "<div>\n",
       "<style scoped>\n",
       "    .dataframe tbody tr th:only-of-type {\n",
       "        vertical-align: middle;\n",
       "    }\n",
       "\n",
       "    .dataframe tbody tr th {\n",
       "        vertical-align: top;\n",
       "    }\n",
       "\n",
       "    .dataframe thead th {\n",
       "        text-align: right;\n",
       "    }\n",
       "</style>\n",
       "<table border=\"1\" class=\"dataframe\">\n",
       "  <thead>\n",
       "    <tr style=\"text-align: right;\">\n",
       "      <th></th>\n",
       "      <th>count</th>\n",
       "      <th>mean</th>\n",
       "      <th>std</th>\n",
       "      <th>min</th>\n",
       "      <th>25%</th>\n",
       "      <th>50%</th>\n",
       "      <th>75%</th>\n",
       "      <th>max</th>\n",
       "    </tr>\n",
       "  </thead>\n",
       "  <tbody>\n",
       "    <tr>\n",
       "      <th>model_year</th>\n",
       "      <td>125690.0</td>\n",
       "      <td>2015.797526</td>\n",
       "      <td>5.673797</td>\n",
       "      <td>1974.0</td>\n",
       "      <td>2013.0</td>\n",
       "      <td>2017.0</td>\n",
       "      <td>2020.0</td>\n",
       "      <td>2024.0</td>\n",
       "    </tr>\n",
       "    <tr>\n",
       "      <th>milage</th>\n",
       "      <td>125690.0</td>\n",
       "      <td>66042.581510</td>\n",
       "      <td>50223.858435</td>\n",
       "      <td>100.0</td>\n",
       "      <td>24500.0</td>\n",
       "      <td>57500.0</td>\n",
       "      <td>95798.0</td>\n",
       "      <td>405000.0</td>\n",
       "    </tr>\n",
       "  </tbody>\n",
       "</table>\n",
       "</div>"
      ],
      "text/plain": [
       "               count          mean           std     min      25%      50%  \\\n",
       "model_year  125690.0   2015.797526      5.673797  1974.0   2013.0   2017.0   \n",
       "milage      125690.0  66042.581510  50223.858435   100.0  24500.0  57500.0   \n",
       "\n",
       "                75%       max  \n",
       "model_year   2020.0    2024.0  \n",
       "milage      95798.0  405000.0  "
      ]
     },
     "execution_count": 9,
     "metadata": {},
     "output_type": "execute_result"
    }
   ],
   "source": [
    "print('The Descriptive Statistics of Test Data : \\n')\n",
    "df_test.describe().T"
   ]
  },
  {
   "cell_type": "markdown",
   "metadata": {},
   "source": [
    "### 4.2. Agrupación de características (Características numéricas vs Características categóricas)"
   ]
  },
  {
   "cell_type": "code",
   "execution_count": 10,
   "metadata": {},
   "outputs": [
    {
     "name": "stdout",
     "output_type": "stream",
     "text": [
      "The data type of each columns of train dataset : \n",
      "\n",
      "<class 'pandas.core.frame.DataFrame'>\n",
      "Index: 188533 entries, 0 to 188532\n",
      "Data columns (total 12 columns):\n",
      " #   Column        Non-Null Count   Dtype \n",
      "---  ------        --------------   ----- \n",
      " 0   brand         188533 non-null  object\n",
      " 1   model         188533 non-null  object\n",
      " 2   model_year    188533 non-null  int64 \n",
      " 3   milage        188533 non-null  int64 \n",
      " 4   fuel_type     183450 non-null  object\n",
      " 5   engine        188533 non-null  object\n",
      " 6   transmission  188533 non-null  object\n",
      " 7   ext_col       188533 non-null  object\n",
      " 8   int_col       188533 non-null  object\n",
      " 9   accident      186081 non-null  object\n",
      " 10  clean_title   167114 non-null  object\n",
      " 11  price         188533 non-null  int64 \n",
      "dtypes: int64(3), object(9)\n",
      "memory usage: 18.7+ MB\n"
     ]
    }
   ],
   "source": [
    "print('The data type of each columns of train dataset : \\n')\n",
    "df_train.info()"
   ]
  },
  {
   "cell_type": "code",
   "execution_count": 11,
   "metadata": {},
   "outputs": [
    {
     "name": "stdout",
     "output_type": "stream",
     "text": [
      "features : ['brand', 'model', 'model_year', 'milage', 'fuel_type', 'engine', 'transmission', 'ext_col', 'int_col', 'accident', 'clean_title', 'price']\n",
      "num_features : ['model_year', 'milage']\n",
      "cat_features : ['clean_title', 'accident', 'model', 'transmission', 'engine', 'ext_col', 'fuel_type', 'int_col', 'brand']\n"
     ]
    }
   ],
   "source": [
    "features = ['brand', 'model', 'model_year', 'milage', 'fuel_type', 'engine', 'transmission', 'ext_col', 'int_col', 'accident', 'clean_title', 'price']\n",
    "num_features = ['model_year', 'milage']\n",
    "cat_features = ['clean_title', 'accident', 'model', 'transmission', 'engine', 'ext_col', 'fuel_type', 'int_col', 'brand']\n",
    "\n",
    "print('features :', features)\n",
    "print('num_features :', num_features)\n",
    "print('cat_features :', cat_features)"
   ]
  },
  {
   "cell_type": "markdown",
   "metadata": {},
   "source": [
    "\n",
    "### 4.3. Visualización de Valores Faltantes"
   ]
  },
  {
   "cell_type": "code",
   "execution_count": 12,
   "metadata": {},
   "outputs": [
    {
     "name": "stdout",
     "output_type": "stream",
     "text": [
      "The missing valuse of train dataset : \n",
      " brand               0\n",
      "model               0\n",
      "model_year          0\n",
      "milage              0\n",
      "fuel_type        5083\n",
      "engine              0\n",
      "transmission        0\n",
      "ext_col             0\n",
      "int_col             0\n",
      "accident         2452\n",
      "clean_title     21419\n",
      "price               0\n",
      "dtype: int64\n",
      "The missing valuse of test dataset : \n",
      " brand               0\n",
      "model               0\n",
      "model_year          0\n",
      "milage              0\n",
      "fuel_type        3383\n",
      "engine              0\n",
      "transmission        0\n",
      "ext_col             0\n",
      "int_col             0\n",
      "accident         1632\n",
      "clean_title     14239\n",
      "dtype: int64\n"
     ]
    }
   ],
   "source": [
    "print('The missing valuse of train dataset : \\n', df_train.isnull().sum())\n",
    "print('The missing valuse of test dataset : \\n' , df_test.isnull().sum())"
   ]
  },
  {
   "cell_type": "code",
   "execution_count": 13,
   "metadata": {},
   "outputs": [
    {
     "data": {
      "image/png": "[encoded data removed]",
      "text/plain": [
       "<Figure size 1500x600 with 1 Axes>"
      ]
     },
     "metadata": {},
     "output_type": "display_data"
    },
    {
     "data": {
      "image/png": "[encoded data removed]",
      "text/plain": [
       "<Figure size 1500x600 with 1 Axes>"
      ]
     },
     "metadata": {},
     "output_type": "display_data"
    }
   ],
   "source": [
    "def plot_missing_values(df, title, color):\n",
    "    missing_ratio = df.isnull().sum() / len(df) * 100\n",
    "    missing_df = pd.DataFrame({'column': missing_ratio.index, 'missing_ratio': missing_ratio.values})\n",
    "    \n",
    "    plt.figure(figsize=(15, 6))\n",
    "    plt.grid(True)\n",
    "    ax = sns.barplot(x='column', y='missing_ratio', data=missing_df, color=color)\n",
    "    \n",
    "    plt.xticks(rotation=45, ha='right')\n",
    "    plt.title(title)\n",
    "    \n",
    "    plt.yticks(range(0, 101, 20))\n",
    "    plt.ylabel('Missing Values ratio(%)')\n",
    "    \n",
    "    for p in ax.patches:\n",
    "        height = p.get_height()\n",
    "        ax.text(p.get_x() + p.get_width() / 2.,\n",
    "                height + 0.8,\n",
    "                '{:.1f}%'.format(height),\n",
    "                ha=\"center\")\n",
    "    \n",
    "    plt.tight_layout()\n",
    "    plt.show()\n",
    "\n",
    "    \n",
    "    \n",
    "plot_missing_values(df_train, 'Missing Values ratio of Train Dataset', '#00FF7F')\n",
    "plot_missing_values(df_test, 'Missing Values ratio of Test Dataset', '#00BFFF')\n"
   ]
  },
  {
   "cell_type": "markdown",
   "metadata": {},
   "source": [
    "## 5. Preprocesamiento de Datos\n",
    "\n",
    "### 5.1. Manejo de Valores Faltantes\n",
    "\n",
    "- **<Paso 1> *Eliminación de columnas:*** No eliminaremos ninguna característica porque la cantidad de valores faltantes es pequeña, y estos valores faltantes podrían no deberse a errores humanos, sino más bien a omisiones intencionales por parte de los encuestados.\n",
    "\n",
    "- **<Paso 2> *Limpieza de valores faltantes:*** en las características numéricas. No hay valores faltantes en las características numéricas.\n",
    "\n",
    "- **<Paso 3> *Limpieza de valores faltantes*** en las características categóricas. Los valores faltantes en fuel_type probablemente se debieron a errores humanos, mientras que los valores faltantes en accident, clean_title parecen ser omisiones intencionales por parte de los encuestados.\n",
    "\n",
    "Se usará la función Imputer para rellenar los valores faltantes en fuel_type con el valor más frecuente, y se etiquetarán los valores faltantes en accident, clean_title como 'missing'."
   ]
  },
  {
   "cell_type": "code",
   "execution_count": 14,
   "metadata": {},
   "outputs": [],
   "source": [
    "def cleaning_data(df):\n",
    "    \"\"\"\n",
    "        This function cleans the data by filling the missing values and removing the outliers.\n",
    "\n",
    "        Args:\n",
    "        df : DataFrame : The dataset to be cleaned.\n",
    "    \"\"\"\n",
    "\n",
    "    fuel_type_imputer = SimpleImputer(strategy='most_frequent')\n",
    "    df['fuel_type'] = fuel_type_imputer.fit_transform(df[['fuel_type']]).ravel() \n",
    "    \n",
    "    missing_label_imputer = SimpleImputer(strategy='constant', fill_value='missing')\n",
    "    df[['accident', 'clean_title']] = missing_label_imputer.fit_transform(df[['accident', 'clean_title']])\n",
    "    \n",
    "    return df"
   ]
  },
  {
   "cell_type": "code",
   "execution_count": 15,
   "metadata": {},
   "outputs": [
    {
     "name": "stdout",
     "output_type": "stream",
     "text": [
      "The missing valuse of train dataset after handling missing values : \n",
      " brand           0\n",
      "model           0\n",
      "model_year      0\n",
      "milage          0\n",
      "fuel_type       0\n",
      "engine          0\n",
      "transmission    0\n",
      "ext_col         0\n",
      "int_col         0\n",
      "accident        0\n",
      "clean_title     0\n",
      "price           0\n",
      "dtype: int64\n"
     ]
    }
   ],
   "source": [
    "df_train_cleaned = cleaning_data(df_train)\n",
    "print('The missing valuse of train dataset after handling missing values : \\n', df_train_cleaned.isnull().sum())"
   ]
  },
  {
   "cell_type": "code",
   "execution_count": 16,
   "metadata": {},
   "outputs": [],
   "source": [
    "def plot_missing_values_ratio(df, dataset_name='Dataset'):\n",
    "    \"\"\"\n",
    "        This function plots the missing values ratio of the dataset.\n",
    "\n",
    "        Args:\n",
    "        df : DataFrame : The dataset to be plotted.\n",
    "        dataset_name : str : The name of the dataset.\n",
    "    \"\"\"\n",
    "    \n",
    "    missing_ratio = df.isnull().sum() / len(df) * 100\n",
    "    missing_df = pd.DataFrame({'column': missing_ratio.index, 'missing_ratio': missing_ratio.values})\n",
    "\n",
    "    plt.figure(figsize=(15, 6))\n",
    "    plt.grid(True) \n",
    "    ax = sns.barplot(x='column', y='missing_ratio', data=missing_df, color='#FFD700')\n",
    "\n",
    "    plt.xticks(rotation=45, ha='right')\n",
    "    plt.title(f'Missing Values ratio of {dataset_name}')\n",
    "    plt.yticks(range(0, 101, 20))\n",
    "    plt.ylabel('Missing Values ratio(%)')\n",
    "\n",
    "    for p in ax.patches:\n",
    "        height = p.get_height()\n",
    "        ax.text(p.get_x() + p.get_width() / 2.,\n",
    "                height + 0.8,\n",
    "                '{:.1f}%'.format(height),\n",
    "                ha=\"center\")\n",
    "    \n",
    "    plt.show()"
   ]
  },
  {
   "cell_type": "code",
   "execution_count": 23,
   "metadata": {},
   "outputs": [
    {
     "data": {
      "image/png": "[encoded data removed]",
      "text/plain": [
       "<Figure size 1500x600 with 1 Axes>"
      ]
     },
     "metadata": {},
     "output_type": "display_data"
    },
    {
     "data": {
      "image/png": "[encoded data removed]",
      "text/plain": [
       "<Figure size 1500x600 with 1 Axes>"
      ]
     },
     "metadata": {},
     "output_type": "display_data"
    }
   ],
   "source": [
    "plot_missing_values_ratio(df_train_cleaned, dataset_name='Train Dataset')\n",
    "df_test_cleaned = cleaning_data(df_test)\n",
    "plot_missing_values_ratio(df_test_cleaned, dataset_name='Test Dataset')"
   ]
  },
  {
   "cell_type": "markdown",
   "metadata": {},
   "source": [
    "### 5.2. Normalización\n",
    "\n",
    "Tenemos dos características numéricas: 'model_year' y 'milage'. Sin embargo, 'model_year' es esencialmente una característica categórica. Usaré Codificación Ordinal para el total de 10 características categóricas.\n",
    "\n",
    "Las características numéricas se normalizarán."
   ]
  },
  {
   "cell_type": "code",
   "execution_count": 24,
   "metadata": {},
   "outputs": [],
   "source": [
    "num_features = ['milage']\n",
    "cat_features = ['clean_title', 'accident', 'model', 'transmission', 'engine', 'ext_col', 'fuel_type', 'int_col', 'brand', 'model_year']"
   ]
  },
  {
   "cell_type": "code",
   "execution_count": 25,
   "metadata": {},
   "outputs": [],
   "source": [
    "num_pipeline = Pipeline([\n",
    "    ('scaler', StandardScaler()),\n",
    "])"
   ]
  },
  {
   "cell_type": "code",
   "execution_count": 26,
   "metadata": {},
   "outputs": [],
   "source": [
    "cat_pipeline = Pipeline([\n",
    "    ('ordinal', OrdinalEncoder(handle_unknown='use_encoded_value', unknown_value=-1)),\n",
    "])"
   ]
  },
  {
   "cell_type": "code",
   "execution_count": 27,
   "metadata": {},
   "outputs": [],
   "source": [
    "preprocessing = ColumnTransformer([\n",
    "    ('num', num_pipeline, num_features),\n",
    "    ('cat', cat_pipeline, cat_features),\n",
    "])"
   ]
  },
  {
   "cell_type": "markdown",
   "metadata": {},
   "source": [
    "## 6. Modelado y Evaluación"
   ]
  },
  {
   "cell_type": "code",
   "execution_count": 28,
   "metadata": {},
   "outputs": [],
   "source": [
    "\"\"\"\n",
    "  x: DataFrame : The features of the dataset from train dataset.\n",
    "  y: DataFrame : The target of the dataset from train dataset.\n",
    "  X_test: DataFrame : The features of the dataset from test dataset.\n",
    "\"\"\"\n",
    "\n",
    "X = df_train_cleaned.drop(columns=['price'])\n",
    "y = df_train_cleaned['price']\n",
    "\n",
    "X_test = df_test_cleaned"
   ]
  },
  {
   "cell_type": "code",
   "execution_count": 30,
   "metadata": {},
   "outputs": [
    {
     "name": "stdout",
     "output_type": "stream",
     "text": [
      "### Fold 1 Training ###\n",
      "0:\tlearn: 78339.0390756\ttest: 78698.7904373\tbest: 78698.7904373 (0)\ttotal: 368ms\tremaining: 30m 37s\n",
      "Stopped by overfitting detector  (200 iterations wait)\n",
      "\n",
      "bestTest = 73051.22726\n",
      "bestIteration = 199\n",
      "\n",
      "Shrink model to first 200 iterations.\n",
      "Fold 1 RMSE: 73051.22726\n",
      "\n",
      "### Fold 2 Training ###\n",
      "0:\tlearn: 78335.1133491\ttest: 78591.6978206\tbest: 78591.6978206 (0)\ttotal: 329ms\tremaining: 27m 24s\n",
      "Stopped by overfitting detector  (200 iterations wait)\n",
      "\n",
      "bestTest = 72896.11767\n",
      "bestIteration = 293\n",
      "\n",
      "Shrink model to first 294 iterations.\n",
      "Fold 2 RMSE: 72896.11767\n",
      "\n",
      "### Fold 3 Training ###\n",
      "0:\tlearn: 78477.2758921\ttest: 78084.9333366\tbest: 78084.9333366 (0)\ttotal: 264ms\tremaining: 22m\n",
      "Stopped by overfitting detector  (200 iterations wait)\n",
      "\n",
      "bestTest = 72776.90949\n",
      "bestIteration = 324\n",
      "\n",
      "Shrink model to first 325 iterations.\n",
      "Fold 3 RMSE: 72776.90949\n",
      "\n",
      "### Fold 4 Training ###\n",
      "0:\tlearn: 78362.2833674\ttest: 78566.5419060\tbest: 78566.5419060 (0)\ttotal: 234ms\tremaining: 19m 28s\n",
      "Stopped by overfitting detector  (200 iterations wait)\n",
      "\n",
      "bestTest = 72794.31497\n",
      "bestIteration = 310\n",
      "\n",
      "Shrink model to first 311 iterations.\n",
      "Fold 4 RMSE: 72794.31497\n",
      "\n",
      "### Fold 5 Training ###\n",
      "0:\tlearn: 78427.9247694\ttest: 78126.5761598\tbest: 78126.5761598 (0)\ttotal: 293ms\tremaining: 24m 27s\n",
      "Stopped by overfitting detector  (200 iterations wait)\n",
      "\n",
      "bestTest = 72946.06527\n",
      "bestIteration = 180\n",
      "\n",
      "Shrink model to first 181 iterations.\n",
      "Fold 5 RMSE: 72946.06527\n",
      "\n",
      "\n",
      "Overall RMSE: 72892.92693 +/- 101.07148\n"
     ]
    }
   ],
   "source": [
    "\"\"\"\n",
    "    In this cell, the dataset is splitted into train and validation sets.\n",
    "    Then, the model is trained and evaluated using CatBoostRegressor model,\n",
    "    and the predictions are made on the test set.\n",
    "\"\"\"\n",
    "\n",
    "rmses = []\n",
    "preds = []\n",
    "\n",
    "skf = StratifiedKFold(n_splits=5, shuffle=True, random_state=rs)\n",
    "\n",
    "for fold, (train_idx, valid_idx) in enumerate(skf.split(X, y)):\n",
    "    print(f'### Fold {fold+1} Training ###')\n",
    "\n",
    "    X_train = X.loc[train_idx]\n",
    "    y_train = y.loc[train_idx]\n",
    "    X_valid = X.loc[valid_idx]\n",
    "    y_valid = y.loc[valid_idx]\n",
    "    X_test = X_test\n",
    "    \n",
    "    \n",
    "    for cat_col in cat_features:\n",
    "        X_train[cat_col] = X_train[cat_col].astype(str)\n",
    "        X_valid[cat_col] = X_valid[cat_col].astype(str)\n",
    "        X_test[cat_col] = X_test[cat_col].astype(str)\n",
    "\n",
    "\n",
    "    X_train_pool = Pool(X_train, y_train, cat_features=cat_features)\n",
    "    X_valid_pool = Pool(X_valid, y_valid, cat_features=cat_features)\n",
    "    X_test_pool = Pool(X_test, cat_features=cat_features)\n",
    "\n",
    "    model = CatBoostRegressor(        \n",
    "        loss_function='RMSE',\n",
    "        eval_metric='RMSE',\n",
    "        learning_rate=0.042,\n",
    "        iterations=5000,\n",
    "        depth=10,\n",
    "        cat_features=cat_features,\n",
    "        random_strength=0,\n",
    "        l2_leaf_reg=0.3,\n",
    "        task_type=task_type,\n",
    "        random_seed=42,\n",
    "        verbose=1000\n",
    "    )\n",
    "\n",
    "    model.fit(X=X_train_pool, eval_set=X_valid_pool, verbose=1000, early_stopping_rounds=200)\n",
    "    pred_valid = model.predict(X_valid_pool)\n",
    "    \n",
    "    \n",
    "    pred_valid = model.predict(X_valid_pool)\n",
    "    preds.append(model.predict(X_test_pool))\n",
    "    \n",
    "    rmse = mean_squared_error(y_valid, pred_valid, squared=False)\n",
    "    \n",
    "    \n",
    "    rmses.append(rmse)\n",
    "    \n",
    "    print(f'Fold {fold+1} RMSE: {rmse:.5f}\\n')\n",
    "\n",
    "print(f'\\nOverall RMSE: {np.mean(rmses):.5f} +/- {np.std(rmses):.5f}')"
   ]
  },
  {
   "cell_type": "markdown",
   "metadata": {},
   "source": [
    "## 7. Muestra de Predicciones\n",
    "\n",
    "Se muestra un conjunto de predicciones realizadas por el modelo para los datos de prueba."
   ]
  },
  {
   "cell_type": "code",
   "execution_count": 31,
   "metadata": {},
   "outputs": [],
   "source": [
    "y_pred = np.zeros(len(preds[0]))\n",
    "\n",
    "for pred in preds: \n",
    "    y_pred += pred\n",
    "\n",
    "y_pred /= len(preds)"
   ]
  },
  {
   "cell_type": "code",
   "execution_count": 32,
   "metadata": {},
   "outputs": [
    {
     "data": {
      "text/plain": [
       "array([16995.61054479, 81182.48841235, 56504.19912613, 28063.07647304,\n",
       "       32240.22425212, 16726.97756402, 13750.34495229, 46029.88986799,\n",
       "       71649.00496117, 34839.87362894])"
      ]
     },
     "execution_count": 32,
     "metadata": {},
     "output_type": "execute_result"
    }
   ],
   "source": [
    "y_pred[:10]"
   ]
  },
  {
   "cell_type": "code",
   "execution_count": 34,
   "metadata": {},
   "outputs": [
    {
     "data": {
      "text/plain": [
       "id\n",
       "188533    16995.610545\n",
       "188534    81182.488412\n",
       "188535    56504.199126\n",
       "188536    28063.076473\n",
       "188537    32240.224252\n",
       "Name: price, dtype: float64"
      ]
     },
     "execution_count": 34,
     "metadata": {},
     "output_type": "execute_result"
    }
   ],
   "source": [
    "X_test['price'] = y_pred\n",
    "X_test['price'].head()"
   ]
  }
 ],
 "metadata": {
  "kernelspec": {
   "display_name": "Python 3",
   "language": "python",
   "name": "python3"
  },
  "language_info": {
   "codemirror_mode": {
    "name": "ipython",
    "version": 3
   },
   "file_extension": ".py",
   "mimetype": "text/x-python",
   "name": "python",
   "nbconvert_exporter": "python",
   "pygments_lexer": "ipython3",
   "version": "3.11.6"
  }
 },
 "nbformat": 4,
 "nbformat_minor": 2
}
